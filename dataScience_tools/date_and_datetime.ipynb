{
 "cells": [
  {
   "cell_type": "markdown",
   "metadata": {},
   "source": [
    "# Date and time in python"
   ]
  },
  {
   "cell_type": "code",
   "execution_count": 1,
   "metadata": {
    "scrolled": true
   },
   "outputs": [
    {
     "name": "stdout",
     "output_type": "stream",
     "text": [
      "Current date: 2020-08-22\n",
      "<class 'datetime.date'>\n"
     ]
    }
   ],
   "source": [
    "from datetime import date\n",
    "current_date = date.today()\n",
    "print(\"Current date:\", current_date)\n",
    "print(type(current_date))"
   ]
  },
  {
   "cell_type": "code",
   "execution_count": 66,
   "metadata": {
    "scrolled": true
   },
   "outputs": [
    {
     "name": "stdout",
     "output_type": "stream",
     "text": [
      "Now: 2020-08-22 11:46:58.498716\n",
      "<class 'datetime.datetime'>\n"
     ]
    }
   ],
   "source": [
    "from datetime import datetime\n",
    "now = datetime.now()\n",
    "print(\"Now:\", now)\n",
    "print(type(now))"
   ]
  },
  {
   "cell_type": "code",
   "execution_count": 67,
   "metadata": {},
   "outputs": [
    {
     "name": "stdout",
     "output_type": "stream",
     "text": [
      "Current time(24 Hour format): 11:47:17\n"
     ]
    }
   ],
   "source": [
    "from datetime import datetime\n",
    "now = datetime.now()\n",
    "current_time = now.strftime(\"%H:%M:%S\")\n",
    "print(\"Current time(24 Hour format):\", current_time)"
   ]
  },
  {
   "cell_type": "code",
   "execution_count": 24,
   "metadata": {},
   "outputs": [
    {
     "name": "stdout",
     "output_type": "stream",
     "text": [
      "Current time(12 Hour format): 11:09:34 AM\n"
     ]
    }
   ],
   "source": [
    "from datetime import datetime\n",
    "now = datetime.now()\n",
    "current_time = now.strftime(\"%I:%M:%S %p\")\n",
    "print(\"Current time(12 Hour format):\", current_time)"
   ]
  },
  {
   "cell_type": "code",
   "execution_count": 29,
   "metadata": {},
   "outputs": [
    {
     "name": "stdout",
     "output_type": "stream",
     "text": [
      "Current time(12 Hour format): Aug \n"
     ]
    }
   ],
   "source": [
    "from datetime import datetime\n",
    "now = datetime.now()\n",
    "current_time = now.strftime(\"%b\")\n",
    "print(\"Current time(12 Hour format):\", current_time)"
   ]
  },
  {
   "cell_type": "code",
   "execution_count": 30,
   "metadata": {},
   "outputs": [
    {
     "data": {
      "text/plain": [
       "'2020-08-22'"
      ]
     },
     "execution_count": 30,
     "metadata": {},
     "output_type": "execute_result"
    }
   ],
   "source": [
    "from datetime import date\n",
    "current_date = date.today()\n",
    "current_date.strftime('%Y-%m-%d')"
   ]
  },
  {
   "cell_type": "code",
   "execution_count": 31,
   "metadata": {},
   "outputs": [
    {
     "data": {
      "text/plain": [
       "'22'"
      ]
     },
     "execution_count": 31,
     "metadata": {},
     "output_type": "execute_result"
    }
   ],
   "source": [
    "#Print only day from current date\n",
    "current_date.strftime('%d')"
   ]
  },
  {
   "cell_type": "code",
   "execution_count": 32,
   "metadata": {},
   "outputs": [
    {
     "data": {
      "text/plain": [
       "'Saturday'"
      ]
     },
     "execution_count": 32,
     "metadata": {},
     "output_type": "execute_result"
    }
   ],
   "source": [
    "#Print day of week \n",
    "current_date.strftime(\"%A\")"
   ]
  },
  {
   "cell_type": "code",
   "execution_count": 33,
   "metadata": {},
   "outputs": [
    {
     "data": {
      "text/plain": [
       "'Sat'"
      ]
     },
     "execution_count": 33,
     "metadata": {},
     "output_type": "execute_result"
    }
   ],
   "source": [
    "#Print day of week in 3 letter format \n",
    "current_date.strftime(\"%a\")"
   ]
  },
  {
   "cell_type": "code",
   "execution_count": 53,
   "metadata": {},
   "outputs": [
    {
     "data": {
      "text/plain": [
       "235"
      ]
     },
     "execution_count": 53,
     "metadata": {},
     "output_type": "execute_result"
    }
   ],
   "source": [
    "#Day of the year\n",
    "import time\n",
    "from datetime import datetime\n",
    "now = datetime.now().strftime(\"%a %b %d %H:%M:%S %Y\")\n",
    "time.strptime(now).tm_yday"
   ]
  },
  {
   "cell_type": "code",
   "execution_count": 57,
   "metadata": {},
   "outputs": [
    {
     "data": {
      "text/plain": [
       "'August'"
      ]
     },
     "execution_count": 57,
     "metadata": {},
     "output_type": "execute_result"
    }
   ],
   "source": [
    "#Print month name\n",
    "from datetime import datetime\n",
    "datetime.now().strftime(\"%B\")\n"
   ]
  },
  {
   "cell_type": "code",
   "execution_count": 58,
   "metadata": {},
   "outputs": [
    {
     "data": {
      "text/plain": [
       "'Aug'"
      ]
     },
     "execution_count": 58,
     "metadata": {},
     "output_type": "execute_result"
    }
   ],
   "source": [
    "#Print month name in 3 letter\n",
    "from datetime import datetime\n",
    "datetime.now().strftime(\"%b\")\n"
   ]
  },
  {
   "cell_type": "code",
   "execution_count": 62,
   "metadata": {},
   "outputs": [
    {
     "data": {
      "text/plain": [
       "'20200822'"
      ]
     },
     "execution_count": 62,
     "metadata": {},
     "output_type": "execute_result"
    }
   ],
   "source": [
    "#Print date in YYYYMMDD\n",
    "from datetime import datetime\n",
    "datetime.now().strftime(\"%Y%m%d\")"
   ]
  },
  {
   "cell_type": "code",
   "execution_count": 63,
   "metadata": {},
   "outputs": [
    {
     "data": {
      "text/plain": [
       "'200822'"
      ]
     },
     "execution_count": 63,
     "metadata": {},
     "output_type": "execute_result"
    }
   ],
   "source": [
    "#Print date in YYMMDD\n",
    "from datetime import datetime\n",
    "datetime.now().strftime(\"%y%m%d\")"
   ]
  },
  {
   "cell_type": "markdown",
   "metadata": {},
   "source": [
    "# Functions related to date and time"
   ]
  },
  {
   "cell_type": "code",
   "execution_count": 14,
   "metadata": {},
   "outputs": [
    {
     "name": "stdout",
     "output_type": "stream",
     "text": [
      "Current date: 2020-08-22\n",
      "Next date: 2020-08-23\n"
     ]
    }
   ],
   "source": [
    "#Tomorrows date \n",
    "from datetime import datetime  \n",
    "from datetime import timedelta \n",
    "today = datetime.now()\n",
    "tomorrow = datetime.now() + timedelta(days=1) \n",
    "print(\"Current date:\", today.strftime('%Y-%m-%d'))\n",
    "print(\"Next date:\", tomorrow.strftime('%Y-%m-%d'))\n"
   ]
  },
  {
   "cell_type": "code",
   "execution_count": 22,
   "metadata": {},
   "outputs": [
    {
     "name": "stdout",
     "output_type": "stream",
     "text": [
      "Current date: 2020-08-22\n",
      "Yesterday: 2020-08-21\n"
     ]
    }
   ],
   "source": [
    "#Yesterdays date \n",
    "from datetime import datetime  \n",
    "from datetime import timedelta \n",
    "today = datetime.now()\n",
    "Yesterday = datetime.now() + timedelta(days=-1) \n",
    "print(\"Current date:\", today.strftime('%Y-%m-%d'))\n",
    "print(\"Yesterday:\", Yesterday.strftime('%Y-%m-%d'))"
   ]
  },
  {
   "cell_type": "code",
   "execution_count": 15,
   "metadata": {},
   "outputs": [
    {
     "name": "stdout",
     "output_type": "stream",
     "text": [
      "Current time: 12:37:04\n",
      "New time: 13:42:34\n"
     ]
    }
   ],
   "source": [
    "#Add hour, minute or second \n",
    "from datetime import datetime  \n",
    "from datetime import timedelta \n",
    "current_time = datetime.now().strftime(\"%H:%M:%S\")\n",
    "new_time = datetime.now() + timedelta(hours=1,minutes=5,seconds=30) \n",
    "print(\"Current time:\", current_time)\n",
    "print(\"New time:\", new_time.strftime(\"%H:%M:%S\"))\n"
   ]
  },
  {
   "cell_type": "code",
   "execution_count": 17,
   "metadata": {},
   "outputs": [
    {
     "name": "stdout",
     "output_type": "stream",
     "text": [
      "Current time: 12:38:23\n",
      "New time: 13:43:53\n"
     ]
    }
   ],
   "source": [
    "#Add hour, minute or second etc \n",
    "#Generic options\n",
    "from datetime import datetime  \n",
    "from datetime import timedelta \n",
    "current_time = datetime.now().strftime(\"%H:%M:%S\")\n",
    "new_time = datetime.now() + timedelta(days=0, seconds=30, microseconds=0, milliseconds=0, minutes=5, hours=1, weeks=0)\n",
    "print(\"Current time:\", current_time)\n",
    "print(\"New time:\", new_time.strftime(\"%H:%M:%S\"))\n"
   ]
  },
  {
   "cell_type": "code",
   "execution_count": 21,
   "metadata": {},
   "outputs": [
    {
     "name": "stdout",
     "output_type": "stream",
     "text": [
      "Current date: 2020-08-22\n",
      "Next date: 2020-08-23\n",
      "tomorrow greater than today\n"
     ]
    }
   ],
   "source": [
    "#Compare date or time\n",
    "from datetime import datetime  \n",
    "from datetime import timedelta \n",
    "today = datetime.now()\n",
    "tomorrow = datetime.now() + timedelta(days=1) \n",
    "print(\"Current date:\", today.strftime('%Y-%m-%d'))\n",
    "print(\"Next date:\", tomorrow.strftime('%Y-%m-%d'))\n",
    "\n",
    "if (tomorrow > today):\n",
    "    print(\"tomorrow greater than today\")\n",
    "\n",
    "    "
   ]
  },
  {
   "cell_type": "code",
   "execution_count": null,
   "metadata": {},
   "outputs": [],
   "source": []
  }
 ],
 "metadata": {
  "kernelspec": {
   "display_name": "Python 3",
   "language": "python",
   "name": "python3"
  },
  "language_info": {
   "codemirror_mode": {
    "name": "ipython",
    "version": 3
   },
   "file_extension": ".py",
   "mimetype": "text/x-python",
   "name": "python",
   "nbconvert_exporter": "python",
   "pygments_lexer": "ipython3",
   "version": "3.7.5"
  }
 },
 "nbformat": 4,
 "nbformat_minor": 2
}
