{
 "cells": [
  {
   "cell_type": "markdown",
   "metadata": {},
   "source": [
    "# Stock analysis : Infosys Ltd "
   ]
  },
  {
   "cell_type": "code",
   "execution_count": 1,
   "metadata": {},
   "outputs": [],
   "source": [
    "import pandas as pd"
   ]
  },
  {
   "cell_type": "code",
   "execution_count": 2,
   "metadata": {},
   "outputs": [],
   "source": [
    "#ignore warnings \n",
    "import warnings\n",
    "warnings.filterwarnings('ignore')"
   ]
  },
  {
   "cell_type": "code",
   "execution_count": 3,
   "metadata": {},
   "outputs": [],
   "source": [
    "raw_stock_data = pd.read_csv('INFY.NS.csv')"
   ]
  },
  {
   "cell_type": "code",
   "execution_count": 4,
   "metadata": {},
   "outputs": [],
   "source": [
    "raw_stock_data.columns= ['Date','Open','High','Low','Close','Adj Close','Volume']\n"
   ]
  },
  {
   "cell_type": "code",
   "execution_count": 5,
   "metadata": {},
   "outputs": [
    {
     "data": {
      "text/html": [
       "<div>\n",
       "<style scoped>\n",
       "    .dataframe tbody tr th:only-of-type {\n",
       "        vertical-align: middle;\n",
       "    }\n",
       "\n",
       "    .dataframe tbody tr th {\n",
       "        vertical-align: top;\n",
       "    }\n",
       "\n",
       "    .dataframe thead th {\n",
       "        text-align: right;\n",
       "    }\n",
       "</style>\n",
       "<table border=\"1\" class=\"dataframe\">\n",
       "  <thead>\n",
       "    <tr style=\"text-align: right;\">\n",
       "      <th></th>\n",
       "      <th>Date</th>\n",
       "      <th>Open</th>\n",
       "      <th>High</th>\n",
       "      <th>Low</th>\n",
       "      <th>Close</th>\n",
       "      <th>Adj Close</th>\n",
       "      <th>Volume</th>\n",
       "    </tr>\n",
       "  </thead>\n",
       "  <tbody>\n",
       "    <tr>\n",
       "      <th>0</th>\n",
       "      <td>1996-01-01</td>\n",
       "      <td>0.79492</td>\n",
       "      <td>0.79668</td>\n",
       "      <td>0.79102</td>\n",
       "      <td>0.79668</td>\n",
       "      <td>-0.000436</td>\n",
       "      <td>204800.0</td>\n",
       "    </tr>\n",
       "    <tr>\n",
       "      <th>1</th>\n",
       "      <td>1996-01-02</td>\n",
       "      <td>0.79492</td>\n",
       "      <td>0.79883</td>\n",
       "      <td>0.79346</td>\n",
       "      <td>0.79346</td>\n",
       "      <td>-0.000435</td>\n",
       "      <td>204800.0</td>\n",
       "    </tr>\n",
       "    <tr>\n",
       "      <th>2</th>\n",
       "      <td>1996-01-03</td>\n",
       "      <td>0.79883</td>\n",
       "      <td>0.79883</td>\n",
       "      <td>0.79883</td>\n",
       "      <td>0.79883</td>\n",
       "      <td>-0.000437</td>\n",
       "      <td>102400.0</td>\n",
       "    </tr>\n",
       "    <tr>\n",
       "      <th>3</th>\n",
       "      <td>1996-01-04</td>\n",
       "      <td>0.79102</td>\n",
       "      <td>0.79492</td>\n",
       "      <td>0.79102</td>\n",
       "      <td>0.79355</td>\n",
       "      <td>-0.000435</td>\n",
       "      <td>307200.0</td>\n",
       "    </tr>\n",
       "    <tr>\n",
       "      <th>4</th>\n",
       "      <td>1996-01-05</td>\n",
       "      <td>0.78418</td>\n",
       "      <td>0.78418</td>\n",
       "      <td>0.78418</td>\n",
       "      <td>0.78418</td>\n",
       "      <td>-0.000429</td>\n",
       "      <td>51200.0</td>\n",
       "    </tr>\n",
       "    <tr>\n",
       "      <th>5</th>\n",
       "      <td>1996-01-08</td>\n",
       "      <td>0.78418</td>\n",
       "      <td>0.79102</td>\n",
       "      <td>0.78516</td>\n",
       "      <td>0.78906</td>\n",
       "      <td>-0.000432</td>\n",
       "      <td>358400.0</td>\n",
       "    </tr>\n",
       "    <tr>\n",
       "      <th>6</th>\n",
       "      <td>1996-01-09</td>\n",
       "      <td>0.78906</td>\n",
       "      <td>0.78125</td>\n",
       "      <td>0.77148</td>\n",
       "      <td>0.78027</td>\n",
       "      <td>-0.000427</td>\n",
       "      <td>870400.0</td>\n",
       "    </tr>\n",
       "    <tr>\n",
       "      <th>7</th>\n",
       "      <td>1996-01-10</td>\n",
       "      <td>0.78027</td>\n",
       "      <td>0.77539</td>\n",
       "      <td>0.77148</td>\n",
       "      <td>0.77344</td>\n",
       "      <td>-0.000424</td>\n",
       "      <td>358400.0</td>\n",
       "    </tr>\n",
       "    <tr>\n",
       "      <th>8</th>\n",
       "      <td>1996-01-11</td>\n",
       "      <td>0.77930</td>\n",
       "      <td>0.79102</td>\n",
       "      <td>0.77344</td>\n",
       "      <td>0.79102</td>\n",
       "      <td>-0.000433</td>\n",
       "      <td>819200.0</td>\n",
       "    </tr>\n",
       "    <tr>\n",
       "      <th>9</th>\n",
       "      <td>1996-01-12</td>\n",
       "      <td>0.78711</td>\n",
       "      <td>0.78711</td>\n",
       "      <td>0.78125</td>\n",
       "      <td>0.78662</td>\n",
       "      <td>-0.000431</td>\n",
       "      <td>358400.0</td>\n",
       "    </tr>\n",
       "  </tbody>\n",
       "</table>\n",
       "</div>"
      ],
      "text/plain": [
       "         Date     Open     High      Low    Close  Adj Close    Volume\n",
       "0  1996-01-01  0.79492  0.79668  0.79102  0.79668  -0.000436  204800.0\n",
       "1  1996-01-02  0.79492  0.79883  0.79346  0.79346  -0.000435  204800.0\n",
       "2  1996-01-03  0.79883  0.79883  0.79883  0.79883  -0.000437  102400.0\n",
       "3  1996-01-04  0.79102  0.79492  0.79102  0.79355  -0.000435  307200.0\n",
       "4  1996-01-05  0.78418  0.78418  0.78418  0.78418  -0.000429   51200.0\n",
       "5  1996-01-08  0.78418  0.79102  0.78516  0.78906  -0.000432  358400.0\n",
       "6  1996-01-09  0.78906  0.78125  0.77148  0.78027  -0.000427  870400.0\n",
       "7  1996-01-10  0.78027  0.77539  0.77148  0.77344  -0.000424  358400.0\n",
       "8  1996-01-11  0.77930  0.79102  0.77344  0.79102  -0.000433  819200.0\n",
       "9  1996-01-12  0.78711  0.78711  0.78125  0.78662  -0.000431  358400.0"
      ]
     },
     "execution_count": 5,
     "metadata": {},
     "output_type": "execute_result"
    }
   ],
   "source": [
    "raw_stock_data.head(10)"
   ]
  },
  {
   "cell_type": "code",
   "execution_count": 34,
   "metadata": {},
   "outputs": [
    {
     "data": {
      "text/html": [
       "<div>\n",
       "<style scoped>\n",
       "    .dataframe tbody tr th:only-of-type {\n",
       "        vertical-align: middle;\n",
       "    }\n",
       "\n",
       "    .dataframe tbody tr th {\n",
       "        vertical-align: top;\n",
       "    }\n",
       "\n",
       "    .dataframe thead th {\n",
       "        text-align: right;\n",
       "    }\n",
       "</style>\n",
       "<table border=\"1\" class=\"dataframe\">\n",
       "  <thead>\n",
       "    <tr style=\"text-align: right;\">\n",
       "      <th></th>\n",
       "      <th>Date</th>\n",
       "      <th>Open</th>\n",
       "      <th>High</th>\n",
       "      <th>Low</th>\n",
       "      <th>Close</th>\n",
       "      <th>Adj Close</th>\n",
       "      <th>Volume</th>\n",
       "    </tr>\n",
       "  </thead>\n",
       "  <tbody>\n",
       "    <tr>\n",
       "      <th>6247</th>\n",
       "      <td>2020-10-12</td>\n",
       "      <td>1123.000000</td>\n",
       "      <td>1140.000000</td>\n",
       "      <td>1112.099976</td>\n",
       "      <td>1132.099976</td>\n",
       "      <td>1120.067505</td>\n",
       "      <td>14633537.0</td>\n",
       "    </tr>\n",
       "    <tr>\n",
       "      <th>6248</th>\n",
       "      <td>2020-10-13</td>\n",
       "      <td>1135.550049</td>\n",
       "      <td>1166.050049</td>\n",
       "      <td>1135.550049</td>\n",
       "      <td>1157.800049</td>\n",
       "      <td>1145.494507</td>\n",
       "      <td>17523825.0</td>\n",
       "    </tr>\n",
       "    <tr>\n",
       "      <th>6249</th>\n",
       "      <td>2020-10-14</td>\n",
       "      <td>1162.000000</td>\n",
       "      <td>1164.900024</td>\n",
       "      <td>1131.099976</td>\n",
       "      <td>1137.000000</td>\n",
       "      <td>1124.915527</td>\n",
       "      <td>16649573.0</td>\n",
       "    </tr>\n",
       "    <tr>\n",
       "      <th>6250</th>\n",
       "      <td>2020-10-15</td>\n",
       "      <td>1180.000000</td>\n",
       "      <td>1186.000000</td>\n",
       "      <td>1092.500000</td>\n",
       "      <td>1108.250000</td>\n",
       "      <td>1096.471069</td>\n",
       "      <td>44288251.0</td>\n",
       "    </tr>\n",
       "    <tr>\n",
       "      <th>6251</th>\n",
       "      <td>2020-10-16</td>\n",
       "      <td>1113.849976</td>\n",
       "      <td>1135.949951</td>\n",
       "      <td>1096.900024</td>\n",
       "      <td>1127.500000</td>\n",
       "      <td>1115.516479</td>\n",
       "      <td>18365685.0</td>\n",
       "    </tr>\n",
       "    <tr>\n",
       "      <th>6252</th>\n",
       "      <td>2020-10-19</td>\n",
       "      <td>1135.000000</td>\n",
       "      <td>1139.000000</td>\n",
       "      <td>1115.300049</td>\n",
       "      <td>1125.900024</td>\n",
       "      <td>1113.933472</td>\n",
       "      <td>12902123.0</td>\n",
       "    </tr>\n",
       "    <tr>\n",
       "      <th>6253</th>\n",
       "      <td>2020-10-20</td>\n",
       "      <td>1118.900024</td>\n",
       "      <td>1144.699951</td>\n",
       "      <td>1110.000000</td>\n",
       "      <td>1137.500000</td>\n",
       "      <td>1125.410156</td>\n",
       "      <td>10448776.0</td>\n",
       "    </tr>\n",
       "    <tr>\n",
       "      <th>6254</th>\n",
       "      <td>2020-10-21</td>\n",
       "      <td>1141.150024</td>\n",
       "      <td>1154.349976</td>\n",
       "      <td>1135.000000</td>\n",
       "      <td>1148.349976</td>\n",
       "      <td>1136.144897</td>\n",
       "      <td>19811433.0</td>\n",
       "    </tr>\n",
       "    <tr>\n",
       "      <th>6255</th>\n",
       "      <td>2020-10-22</td>\n",
       "      <td>1142.000000</td>\n",
       "      <td>1158.000000</td>\n",
       "      <td>1123.800049</td>\n",
       "      <td>1129.050049</td>\n",
       "      <td>1117.050049</td>\n",
       "      <td>11271335.0</td>\n",
       "    </tr>\n",
       "    <tr>\n",
       "      <th>6256</th>\n",
       "      <td>2020-10-23</td>\n",
       "      <td>1133.000000</td>\n",
       "      <td>1135.000000</td>\n",
       "      <td>1120.150024</td>\n",
       "      <td>1122.500000</td>\n",
       "      <td>1122.500000</td>\n",
       "      <td>9069862.0</td>\n",
       "    </tr>\n",
       "  </tbody>\n",
       "</table>\n",
       "</div>"
      ],
      "text/plain": [
       "            Date         Open         High          Low        Close  \\\n",
       "6247  2020-10-12  1123.000000  1140.000000  1112.099976  1132.099976   \n",
       "6248  2020-10-13  1135.550049  1166.050049  1135.550049  1157.800049   \n",
       "6249  2020-10-14  1162.000000  1164.900024  1131.099976  1137.000000   \n",
       "6250  2020-10-15  1180.000000  1186.000000  1092.500000  1108.250000   \n",
       "6251  2020-10-16  1113.849976  1135.949951  1096.900024  1127.500000   \n",
       "6252  2020-10-19  1135.000000  1139.000000  1115.300049  1125.900024   \n",
       "6253  2020-10-20  1118.900024  1144.699951  1110.000000  1137.500000   \n",
       "6254  2020-10-21  1141.150024  1154.349976  1135.000000  1148.349976   \n",
       "6255  2020-10-22  1142.000000  1158.000000  1123.800049  1129.050049   \n",
       "6256  2020-10-23  1133.000000  1135.000000  1120.150024  1122.500000   \n",
       "\n",
       "        Adj Close      Volume  \n",
       "6247  1120.067505  14633537.0  \n",
       "6248  1145.494507  17523825.0  \n",
       "6249  1124.915527  16649573.0  \n",
       "6250  1096.471069  44288251.0  \n",
       "6251  1115.516479  18365685.0  \n",
       "6252  1113.933472  12902123.0  \n",
       "6253  1125.410156  10448776.0  \n",
       "6254  1136.144897  19811433.0  \n",
       "6255  1117.050049  11271335.0  \n",
       "6256  1122.500000   9069862.0  "
      ]
     },
     "execution_count": 34,
     "metadata": {},
     "output_type": "execute_result"
    }
   ],
   "source": [
    "raw_stock_data.tail(10)"
   ]
  },
  {
   "cell_type": "code",
   "execution_count": 6,
   "metadata": {},
   "outputs": [
    {
     "name": "stdout",
     "output_type": "stream",
     "text": [
      "<class 'pandas.core.frame.DataFrame'>\n",
      "RangeIndex: 6257 entries, 0 to 6256\n",
      "Data columns (total 7 columns):\n",
      " #   Column     Non-Null Count  Dtype  \n",
      "---  ------     --------------  -----  \n",
      " 0   Date       6257 non-null   object \n",
      " 1   Open       6128 non-null   float64\n",
      " 2   High       6128 non-null   float64\n",
      " 3   Low        6128 non-null   float64\n",
      " 4   Close      6128 non-null   float64\n",
      " 5   Adj Close  6128 non-null   float64\n",
      " 6   Volume     6128 non-null   float64\n",
      "dtypes: float64(6), object(1)\n",
      "memory usage: 342.3+ KB\n"
     ]
    }
   ],
   "source": [
    "raw_stock_data.info()"
   ]
  },
  {
   "cell_type": "code",
   "execution_count": 7,
   "metadata": {},
   "outputs": [
    {
     "data": {
      "text/html": [
       "<div>\n",
       "<style scoped>\n",
       "    .dataframe tbody tr th:only-of-type {\n",
       "        vertical-align: middle;\n",
       "    }\n",
       "\n",
       "    .dataframe tbody tr th {\n",
       "        vertical-align: top;\n",
       "    }\n",
       "\n",
       "    .dataframe thead th {\n",
       "        text-align: right;\n",
       "    }\n",
       "</style>\n",
       "<table border=\"1\" class=\"dataframe\">\n",
       "  <thead>\n",
       "    <tr style=\"text-align: right;\">\n",
       "      <th></th>\n",
       "      <th>Open</th>\n",
       "      <th>High</th>\n",
       "      <th>Low</th>\n",
       "      <th>Close</th>\n",
       "      <th>Adj Close</th>\n",
       "      <th>Volume</th>\n",
       "    </tr>\n",
       "  </thead>\n",
       "  <tbody>\n",
       "    <tr>\n",
       "      <th>count</th>\n",
       "      <td>6128.000000</td>\n",
       "      <td>6128.000000</td>\n",
       "      <td>6128.000000</td>\n",
       "      <td>6128.000000</td>\n",
       "      <td>6128.000000</td>\n",
       "      <td>6.128000e+03</td>\n",
       "    </tr>\n",
       "    <tr>\n",
       "      <th>mean</th>\n",
       "      <td>277.617019</td>\n",
       "      <td>281.042421</td>\n",
       "      <td>274.123412</td>\n",
       "      <td>277.571209</td>\n",
       "      <td>184.220268</td>\n",
       "      <td>1.589154e+07</td>\n",
       "    </tr>\n",
       "    <tr>\n",
       "      <th>std</th>\n",
       "      <td>233.305773</td>\n",
       "      <td>235.766253</td>\n",
       "      <td>230.982805</td>\n",
       "      <td>233.339678</td>\n",
       "      <td>233.837040</td>\n",
       "      <td>1.639534e+07</td>\n",
       "    </tr>\n",
       "    <tr>\n",
       "      <th>min</th>\n",
       "      <td>0.763180</td>\n",
       "      <td>0.765630</td>\n",
       "      <td>0.712890</td>\n",
       "      <td>0.763180</td>\n",
       "      <td>-0.007392</td>\n",
       "      <td>0.000000e+00</td>\n",
       "    </tr>\n",
       "    <tr>\n",
       "      <th>25%</th>\n",
       "      <td>69.029123</td>\n",
       "      <td>70.702902</td>\n",
       "      <td>67.492201</td>\n",
       "      <td>69.013474</td>\n",
       "      <td>3.701764</td>\n",
       "      <td>6.274982e+06</td>\n",
       "    </tr>\n",
       "    <tr>\n",
       "      <th>50%</th>\n",
       "      <td>229.937500</td>\n",
       "      <td>233.300003</td>\n",
       "      <td>226.459503</td>\n",
       "      <td>229.322006</td>\n",
       "      <td>70.100662</td>\n",
       "      <td>1.000009e+07</td>\n",
       "    </tr>\n",
       "    <tr>\n",
       "      <th>75%</th>\n",
       "      <td>451.251503</td>\n",
       "      <td>454.201508</td>\n",
       "      <td>447.517006</td>\n",
       "      <td>450.975006</td>\n",
       "      <td>300.963981</td>\n",
       "      <td>1.921247e+07</td>\n",
       "    </tr>\n",
       "    <tr>\n",
       "      <th>max</th>\n",
       "      <td>1180.000000</td>\n",
       "      <td>1186.000000</td>\n",
       "      <td>1135.550049</td>\n",
       "      <td>1157.800049</td>\n",
       "      <td>1145.494507</td>\n",
       "      <td>2.766150e+08</td>\n",
       "    </tr>\n",
       "  </tbody>\n",
       "</table>\n",
       "</div>"
      ],
      "text/plain": [
       "              Open         High          Low        Close    Adj Close  \\\n",
       "count  6128.000000  6128.000000  6128.000000  6128.000000  6128.000000   \n",
       "mean    277.617019   281.042421   274.123412   277.571209   184.220268   \n",
       "std     233.305773   235.766253   230.982805   233.339678   233.837040   \n",
       "min       0.763180     0.765630     0.712890     0.763180    -0.007392   \n",
       "25%      69.029123    70.702902    67.492201    69.013474     3.701764   \n",
       "50%     229.937500   233.300003   226.459503   229.322006    70.100662   \n",
       "75%     451.251503   454.201508   447.517006   450.975006   300.963981   \n",
       "max    1180.000000  1186.000000  1135.550049  1157.800049  1145.494507   \n",
       "\n",
       "             Volume  \n",
       "count  6.128000e+03  \n",
       "mean   1.589154e+07  \n",
       "std    1.639534e+07  \n",
       "min    0.000000e+00  \n",
       "25%    6.274982e+06  \n",
       "50%    1.000009e+07  \n",
       "75%    1.921247e+07  \n",
       "max    2.766150e+08  "
      ]
     },
     "execution_count": 7,
     "metadata": {},
     "output_type": "execute_result"
    }
   ],
   "source": [
    "raw_stock_data.describe()"
   ]
  },
  {
   "cell_type": "code",
   "execution_count": 8,
   "metadata": {},
   "outputs": [
    {
     "data": {
      "text/html": [
       "<div>\n",
       "<style scoped>\n",
       "    .dataframe tbody tr th:only-of-type {\n",
       "        vertical-align: middle;\n",
       "    }\n",
       "\n",
       "    .dataframe tbody tr th {\n",
       "        vertical-align: top;\n",
       "    }\n",
       "\n",
       "    .dataframe thead th {\n",
       "        text-align: right;\n",
       "    }\n",
       "</style>\n",
       "<table border=\"1\" class=\"dataframe\">\n",
       "  <thead>\n",
       "    <tr style=\"text-align: right;\">\n",
       "      <th></th>\n",
       "      <th>count</th>\n",
       "      <th>mean</th>\n",
       "      <th>std</th>\n",
       "      <th>min</th>\n",
       "      <th>25%</th>\n",
       "      <th>50%</th>\n",
       "      <th>75%</th>\n",
       "      <th>max</th>\n",
       "    </tr>\n",
       "  </thead>\n",
       "  <tbody>\n",
       "    <tr>\n",
       "      <th>Open</th>\n",
       "      <td>6128.0</td>\n",
       "      <td>2.776170e+02</td>\n",
       "      <td>2.333058e+02</td>\n",
       "      <td>0.763180</td>\n",
       "      <td>6.902912e+01</td>\n",
       "      <td>2.299375e+02</td>\n",
       "      <td>4.512515e+02</td>\n",
       "      <td>1.180000e+03</td>\n",
       "    </tr>\n",
       "    <tr>\n",
       "      <th>High</th>\n",
       "      <td>6128.0</td>\n",
       "      <td>2.810424e+02</td>\n",
       "      <td>2.357663e+02</td>\n",
       "      <td>0.765630</td>\n",
       "      <td>7.070290e+01</td>\n",
       "      <td>2.333000e+02</td>\n",
       "      <td>4.542015e+02</td>\n",
       "      <td>1.186000e+03</td>\n",
       "    </tr>\n",
       "    <tr>\n",
       "      <th>Low</th>\n",
       "      <td>6128.0</td>\n",
       "      <td>2.741234e+02</td>\n",
       "      <td>2.309828e+02</td>\n",
       "      <td>0.712890</td>\n",
       "      <td>6.749220e+01</td>\n",
       "      <td>2.264595e+02</td>\n",
       "      <td>4.475170e+02</td>\n",
       "      <td>1.135550e+03</td>\n",
       "    </tr>\n",
       "    <tr>\n",
       "      <th>Close</th>\n",
       "      <td>6128.0</td>\n",
       "      <td>2.775712e+02</td>\n",
       "      <td>2.333397e+02</td>\n",
       "      <td>0.763180</td>\n",
       "      <td>6.901347e+01</td>\n",
       "      <td>2.293220e+02</td>\n",
       "      <td>4.509750e+02</td>\n",
       "      <td>1.157800e+03</td>\n",
       "    </tr>\n",
       "    <tr>\n",
       "      <th>Adj Close</th>\n",
       "      <td>6128.0</td>\n",
       "      <td>1.842203e+02</td>\n",
       "      <td>2.338370e+02</td>\n",
       "      <td>-0.007392</td>\n",
       "      <td>3.701764e+00</td>\n",
       "      <td>7.010066e+01</td>\n",
       "      <td>3.009640e+02</td>\n",
       "      <td>1.145495e+03</td>\n",
       "    </tr>\n",
       "    <tr>\n",
       "      <th>Volume</th>\n",
       "      <td>6128.0</td>\n",
       "      <td>1.589154e+07</td>\n",
       "      <td>1.639534e+07</td>\n",
       "      <td>0.000000</td>\n",
       "      <td>6.274982e+06</td>\n",
       "      <td>1.000009e+07</td>\n",
       "      <td>1.921247e+07</td>\n",
       "      <td>2.766150e+08</td>\n",
       "    </tr>\n",
       "  </tbody>\n",
       "</table>\n",
       "</div>"
      ],
      "text/plain": [
       "            count          mean           std       min           25%  \\\n",
       "Open       6128.0  2.776170e+02  2.333058e+02  0.763180  6.902912e+01   \n",
       "High       6128.0  2.810424e+02  2.357663e+02  0.765630  7.070290e+01   \n",
       "Low        6128.0  2.741234e+02  2.309828e+02  0.712890  6.749220e+01   \n",
       "Close      6128.0  2.775712e+02  2.333397e+02  0.763180  6.901347e+01   \n",
       "Adj Close  6128.0  1.842203e+02  2.338370e+02 -0.007392  3.701764e+00   \n",
       "Volume     6128.0  1.589154e+07  1.639534e+07  0.000000  6.274982e+06   \n",
       "\n",
       "                    50%           75%           max  \n",
       "Open       2.299375e+02  4.512515e+02  1.180000e+03  \n",
       "High       2.333000e+02  4.542015e+02  1.186000e+03  \n",
       "Low        2.264595e+02  4.475170e+02  1.135550e+03  \n",
       "Close      2.293220e+02  4.509750e+02  1.157800e+03  \n",
       "Adj Close  7.010066e+01  3.009640e+02  1.145495e+03  \n",
       "Volume     1.000009e+07  1.921247e+07  2.766150e+08  "
      ]
     },
     "execution_count": 8,
     "metadata": {},
     "output_type": "execute_result"
    }
   ],
   "source": [
    "raw_stock_data.describe().T"
   ]
  },
  {
   "cell_type": "code",
   "execution_count": 9,
   "metadata": {},
   "outputs": [
    {
     "data": {
      "text/html": [
       "<div>\n",
       "<style scoped>\n",
       "    .dataframe tbody tr th:only-of-type {\n",
       "        vertical-align: middle;\n",
       "    }\n",
       "\n",
       "    .dataframe tbody tr th {\n",
       "        vertical-align: top;\n",
       "    }\n",
       "\n",
       "    .dataframe thead th {\n",
       "        text-align: right;\n",
       "    }\n",
       "</style>\n",
       "<table border=\"1\" class=\"dataframe\">\n",
       "  <thead>\n",
       "    <tr style=\"text-align: right;\">\n",
       "      <th></th>\n",
       "      <th>Date</th>\n",
       "      <th>Open</th>\n",
       "      <th>High</th>\n",
       "      <th>Low</th>\n",
       "      <th>Close</th>\n",
       "      <th>Adj Close</th>\n",
       "      <th>Volume</th>\n",
       "    </tr>\n",
       "  </thead>\n",
       "  <tbody>\n",
       "    <tr>\n",
       "      <th>0</th>\n",
       "      <td>False</td>\n",
       "      <td>False</td>\n",
       "      <td>False</td>\n",
       "      <td>False</td>\n",
       "      <td>False</td>\n",
       "      <td>False</td>\n",
       "      <td>False</td>\n",
       "    </tr>\n",
       "    <tr>\n",
       "      <th>1</th>\n",
       "      <td>False</td>\n",
       "      <td>False</td>\n",
       "      <td>False</td>\n",
       "      <td>False</td>\n",
       "      <td>False</td>\n",
       "      <td>False</td>\n",
       "      <td>False</td>\n",
       "    </tr>\n",
       "    <tr>\n",
       "      <th>2</th>\n",
       "      <td>False</td>\n",
       "      <td>False</td>\n",
       "      <td>False</td>\n",
       "      <td>False</td>\n",
       "      <td>False</td>\n",
       "      <td>False</td>\n",
       "      <td>False</td>\n",
       "    </tr>\n",
       "    <tr>\n",
       "      <th>3</th>\n",
       "      <td>False</td>\n",
       "      <td>False</td>\n",
       "      <td>False</td>\n",
       "      <td>False</td>\n",
       "      <td>False</td>\n",
       "      <td>False</td>\n",
       "      <td>False</td>\n",
       "    </tr>\n",
       "    <tr>\n",
       "      <th>4</th>\n",
       "      <td>False</td>\n",
       "      <td>False</td>\n",
       "      <td>False</td>\n",
       "      <td>False</td>\n",
       "      <td>False</td>\n",
       "      <td>False</td>\n",
       "      <td>False</td>\n",
       "    </tr>\n",
       "    <tr>\n",
       "      <th>...</th>\n",
       "      <td>...</td>\n",
       "      <td>...</td>\n",
       "      <td>...</td>\n",
       "      <td>...</td>\n",
       "      <td>...</td>\n",
       "      <td>...</td>\n",
       "      <td>...</td>\n",
       "    </tr>\n",
       "    <tr>\n",
       "      <th>6252</th>\n",
       "      <td>False</td>\n",
       "      <td>False</td>\n",
       "      <td>False</td>\n",
       "      <td>False</td>\n",
       "      <td>False</td>\n",
       "      <td>False</td>\n",
       "      <td>False</td>\n",
       "    </tr>\n",
       "    <tr>\n",
       "      <th>6253</th>\n",
       "      <td>False</td>\n",
       "      <td>False</td>\n",
       "      <td>False</td>\n",
       "      <td>False</td>\n",
       "      <td>False</td>\n",
       "      <td>False</td>\n",
       "      <td>False</td>\n",
       "    </tr>\n",
       "    <tr>\n",
       "      <th>6254</th>\n",
       "      <td>False</td>\n",
       "      <td>False</td>\n",
       "      <td>False</td>\n",
       "      <td>False</td>\n",
       "      <td>False</td>\n",
       "      <td>False</td>\n",
       "      <td>False</td>\n",
       "    </tr>\n",
       "    <tr>\n",
       "      <th>6255</th>\n",
       "      <td>False</td>\n",
       "      <td>False</td>\n",
       "      <td>False</td>\n",
       "      <td>False</td>\n",
       "      <td>False</td>\n",
       "      <td>False</td>\n",
       "      <td>False</td>\n",
       "    </tr>\n",
       "    <tr>\n",
       "      <th>6256</th>\n",
       "      <td>False</td>\n",
       "      <td>False</td>\n",
       "      <td>False</td>\n",
       "      <td>False</td>\n",
       "      <td>False</td>\n",
       "      <td>False</td>\n",
       "      <td>False</td>\n",
       "    </tr>\n",
       "  </tbody>\n",
       "</table>\n",
       "<p>6257 rows × 7 columns</p>\n",
       "</div>"
      ],
      "text/plain": [
       "       Date   Open   High    Low  Close  Adj Close  Volume\n",
       "0     False  False  False  False  False      False   False\n",
       "1     False  False  False  False  False      False   False\n",
       "2     False  False  False  False  False      False   False\n",
       "3     False  False  False  False  False      False   False\n",
       "4     False  False  False  False  False      False   False\n",
       "...     ...    ...    ...    ...    ...        ...     ...\n",
       "6252  False  False  False  False  False      False   False\n",
       "6253  False  False  False  False  False      False   False\n",
       "6254  False  False  False  False  False      False   False\n",
       "6255  False  False  False  False  False      False   False\n",
       "6256  False  False  False  False  False      False   False\n",
       "\n",
       "[6257 rows x 7 columns]"
      ]
     },
     "execution_count": 9,
     "metadata": {},
     "output_type": "execute_result"
    }
   ],
   "source": [
    "raw_stock_data.isnull()"
   ]
  },
  {
   "cell_type": "code",
   "execution_count": 10,
   "metadata": {},
   "outputs": [
    {
     "data": {
      "text/plain": [
       "True"
      ]
     },
     "execution_count": 10,
     "metadata": {},
     "output_type": "execute_result"
    }
   ],
   "source": [
    "raw_stock_data.isnull().values.any()"
   ]
  },
  {
   "cell_type": "code",
   "execution_count": 11,
   "metadata": {},
   "outputs": [],
   "source": [
    "cleaned_stock_data = raw_stock_data.dropna(axis=0)"
   ]
  },
  {
   "cell_type": "code",
   "execution_count": 12,
   "metadata": {},
   "outputs": [
    {
     "data": {
      "text/plain": [
       "False"
      ]
     },
     "execution_count": 12,
     "metadata": {},
     "output_type": "execute_result"
    }
   ],
   "source": [
    "cleaned_stock_data.isnull().values.any()"
   ]
  },
  {
   "cell_type": "code",
   "execution_count": 13,
   "metadata": {},
   "outputs": [
    {
     "data": {
      "text/plain": [
       "(6257, 7)"
      ]
     },
     "execution_count": 13,
     "metadata": {},
     "output_type": "execute_result"
    }
   ],
   "source": [
    "raw_stock_data.shape"
   ]
  },
  {
   "cell_type": "code",
   "execution_count": 14,
   "metadata": {},
   "outputs": [
    {
     "data": {
      "text/plain": [
       "(6128, 7)"
      ]
     },
     "execution_count": 14,
     "metadata": {},
     "output_type": "execute_result"
    }
   ],
   "source": [
    "cleaned_stock_data.shape"
   ]
  },
  {
   "cell_type": "code",
   "execution_count": 15,
   "metadata": {},
   "outputs": [
    {
     "data": {
      "text/plain": [
       "0    1996-01-01\n",
       "1    1996-01-02\n",
       "2    1996-01-03\n",
       "3    1996-01-04\n",
       "4    1996-01-05\n",
       "5    1996-01-08\n",
       "6    1996-01-09\n",
       "7    1996-01-10\n",
       "8    1996-01-11\n",
       "9    1996-01-12\n",
       "Name: Date, dtype: object"
      ]
     },
     "execution_count": 15,
     "metadata": {},
     "output_type": "execute_result"
    }
   ],
   "source": [
    "cleaned_stock_data['Date'].head(10)"
   ]
  },
  {
   "cell_type": "code",
   "execution_count": 16,
   "metadata": {},
   "outputs": [],
   "source": [
    "cleaned_stock_data['Year'] = [ str(d).split(\"-\")[0] for d in cleaned_stock_data['Date']]"
   ]
  },
  {
   "cell_type": "code",
   "execution_count": 17,
   "metadata": {},
   "outputs": [
    {
     "data": {
      "text/plain": [
       "0    1996\n",
       "1    1996\n",
       "2    1996\n",
       "3    1996\n",
       "4    1996\n",
       "5    1996\n",
       "6    1996\n",
       "7    1996\n",
       "8    1996\n",
       "9    1996\n",
       "Name: Year, dtype: object"
      ]
     },
     "execution_count": 17,
     "metadata": {},
     "output_type": "execute_result"
    }
   ],
   "source": [
    "cleaned_stock_data['Year'].head(10)"
   ]
  },
  {
   "cell_type": "code",
   "execution_count": 18,
   "metadata": {},
   "outputs": [
    {
     "name": "stdout",
     "output_type": "stream",
     "text": [
      "<class 'pandas.core.frame.DataFrame'>\n",
      "Int64Index: 6128 entries, 0 to 6256\n",
      "Data columns (total 8 columns):\n",
      " #   Column     Non-Null Count  Dtype  \n",
      "---  ------     --------------  -----  \n",
      " 0   Date       6128 non-null   object \n",
      " 1   Open       6128 non-null   float64\n",
      " 2   High       6128 non-null   float64\n",
      " 3   Low        6128 non-null   float64\n",
      " 4   Close      6128 non-null   float64\n",
      " 5   Adj Close  6128 non-null   float64\n",
      " 6   Volume     6128 non-null   float64\n",
      " 7   Year       6128 non-null   object \n",
      "dtypes: float64(6), object(2)\n",
      "memory usage: 430.9+ KB\n"
     ]
    }
   ],
   "source": [
    "cleaned_stock_data.info()"
   ]
  },
  {
   "cell_type": "code",
   "execution_count": 19,
   "metadata": {},
   "outputs": [],
   "source": [
    "import matplotlib.pyplot as plt\n"
   ]
  },
  {
   "cell_type": "code",
   "execution_count": 26,
   "metadata": {},
   "outputs": [
    {
     "data": {
      "image/png": "[encoded data removed]",
      "text/plain": [
       "<Figure size 576x720 with 1 Axes>"
      ]
     },
     "metadata": {
      "needs_background": "light"
     },
     "output_type": "display_data"
    }
   ],
   "source": [
    "# gca stands for 'get current axis'\n",
    "plt.figure(figsize=(8,10))\n",
    "ax = plt.gca()\n",
    "cleaned_stock_data.plot(kind='line',x='Date',y='Close', color='red', ax=ax)\n",
    "plt.show()"
   ]
  },
  {
   "cell_type": "code",
   "execution_count": 29,
   "metadata": {},
   "outputs": [],
   "source": [
    "max_date = max(cleaned_stock_data['Date'])"
   ]
  },
  {
   "cell_type": "code",
   "execution_count": 30,
   "metadata": {},
   "outputs": [],
   "source": [
    "min_date = min(cleaned_stock_data['Date'])"
   ]
  },
  {
   "cell_type": "markdown",
   "metadata": {},
   "source": [
    "# Stock Price on debut"
   ]
  },
  {
   "cell_type": "code",
   "execution_count": 32,
   "metadata": {},
   "outputs": [
    {
     "data": {
      "text/html": [
       "<div>\n",
       "<style scoped>\n",
       "    .dataframe tbody tr th:only-of-type {\n",
       "        vertical-align: middle;\n",
       "    }\n",
       "\n",
       "    .dataframe tbody tr th {\n",
       "        vertical-align: top;\n",
       "    }\n",
       "\n",
       "    .dataframe thead th {\n",
       "        text-align: right;\n",
       "    }\n",
       "</style>\n",
       "<table border=\"1\" class=\"dataframe\">\n",
       "  <thead>\n",
       "    <tr style=\"text-align: right;\">\n",
       "      <th></th>\n",
       "      <th>Date</th>\n",
       "      <th>Open</th>\n",
       "      <th>High</th>\n",
       "      <th>Low</th>\n",
       "      <th>Close</th>\n",
       "      <th>Adj Close</th>\n",
       "      <th>Volume</th>\n",
       "      <th>Year</th>\n",
       "    </tr>\n",
       "  </thead>\n",
       "  <tbody>\n",
       "    <tr>\n",
       "      <th>0</th>\n",
       "      <td>1996-01-01</td>\n",
       "      <td>0.79492</td>\n",
       "      <td>0.79668</td>\n",
       "      <td>0.79102</td>\n",
       "      <td>0.79668</td>\n",
       "      <td>-0.000436</td>\n",
       "      <td>204800.0</td>\n",
       "      <td>1996</td>\n",
       "    </tr>\n",
       "  </tbody>\n",
       "</table>\n",
       "</div>"
      ],
      "text/plain": [
       "         Date     Open     High      Low    Close  Adj Close    Volume  Year\n",
       "0  1996-01-01  0.79492  0.79668  0.79102  0.79668  -0.000436  204800.0  1996"
      ]
     },
     "execution_count": 32,
     "metadata": {},
     "output_type": "execute_result"
    }
   ],
   "source": [
    "cleaned_stock_data.query('Date in @min_date')"
   ]
  },
  {
   "cell_type": "markdown",
   "metadata": {},
   "source": [
    "# Stock price as of date mentioned below"
   ]
  },
  {
   "cell_type": "code",
   "execution_count": 33,
   "metadata": {},
   "outputs": [
    {
     "data": {
      "text/html": [
       "<div>\n",
       "<style scoped>\n",
       "    .dataframe tbody tr th:only-of-type {\n",
       "        vertical-align: middle;\n",
       "    }\n",
       "\n",
       "    .dataframe tbody tr th {\n",
       "        vertical-align: top;\n",
       "    }\n",
       "\n",
       "    .dataframe thead th {\n",
       "        text-align: right;\n",
       "    }\n",
       "</style>\n",
       "<table border=\"1\" class=\"dataframe\">\n",
       "  <thead>\n",
       "    <tr style=\"text-align: right;\">\n",
       "      <th></th>\n",
       "      <th>Date</th>\n",
       "      <th>Open</th>\n",
       "      <th>High</th>\n",
       "      <th>Low</th>\n",
       "      <th>Close</th>\n",
       "      <th>Adj Close</th>\n",
       "      <th>Volume</th>\n",
       "      <th>Year</th>\n",
       "    </tr>\n",
       "  </thead>\n",
       "  <tbody>\n",
       "    <tr>\n",
       "      <th>6256</th>\n",
       "      <td>2020-10-23</td>\n",
       "      <td>1133.0</td>\n",
       "      <td>1135.0</td>\n",
       "      <td>1120.150024</td>\n",
       "      <td>1122.5</td>\n",
       "      <td>1122.5</td>\n",
       "      <td>9069862.0</td>\n",
       "      <td>2020</td>\n",
       "    </tr>\n",
       "  </tbody>\n",
       "</table>\n",
       "</div>"
      ],
      "text/plain": [
       "            Date    Open    High          Low   Close  Adj Close     Volume  \\\n",
       "6256  2020-10-23  1133.0  1135.0  1120.150024  1122.5     1122.5  9069862.0   \n",
       "\n",
       "      Year  \n",
       "6256  2020  "
      ]
     },
     "execution_count": 33,
     "metadata": {},
     "output_type": "execute_result"
    }
   ],
   "source": [
    "cleaned_stock_data.query('Date in @max_date')"
   ]
  },
  {
   "cell_type": "code",
   "execution_count": null,
   "metadata": {},
   "outputs": [],
   "source": []
  }
 ],
 "metadata": {
  "kernelspec": {
   "display_name": "Python 3",
   "language": "python",
   "name": "python3"
  },
  "language_info": {
   "codemirror_mode": {
    "name": "ipython",
    "version": 3
   },
   "file_extension": ".py",
   "mimetype": "text/x-python",
   "name": "python",
   "nbconvert_exporter": "python",
   "pygments_lexer": "ipython3",
   "version": "3.7.5"
  }
 },
 "nbformat": 4,
 "nbformat_minor": 2
}
